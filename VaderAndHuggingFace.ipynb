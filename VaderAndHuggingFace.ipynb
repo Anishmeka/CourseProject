{
  "cells": [
    {
      "cell_type": "markdown",
      "metadata": {},
      "source": [
        "### Imports "
      ]
    },
    {
      "cell_type": "code",
      "execution_count": 1,
      "metadata": {},
      "outputs": [],
      "source": [
        "import pandas as pd\n",
        "import numpy as np\n",
        "import matplotlib.pyplot as plt\n",
        "import seaborn as sns\n",
        "import nltk\n",
        "\n",
        "plt.style.use('ggplot')"
      ]
    },
    {
      "cell_type": "markdown",
      "metadata": {},
      "source": [
        "### Read the Data"
      ]
    },
    {
      "cell_type": "code",
      "execution_count": 2,
      "metadata": {},
      "outputs": [
        {
          "data": {
            "text/html": [
              "<div>\n",
              "<style scoped>\n",
              "    .dataframe tbody tr th:only-of-type {\n",
              "        vertical-align: middle;\n",
              "    }\n",
              "\n",
              "    .dataframe tbody tr th {\n",
              "        vertical-align: top;\n",
              "    }\n",
              "\n",
              "    .dataframe thead th {\n",
              "        text-align: right;\n",
              "    }\n",
              "</style>\n",
              "<table border=\"1\" class=\"dataframe\">\n",
              "  <thead>\n",
              "    <tr style=\"text-align: right;\">\n",
              "      <th></th>\n",
              "      <th>product_id</th>\n",
              "      <th>product_name</th>\n",
              "      <th>category</th>\n",
              "      <th>discounted_price</th>\n",
              "      <th>actual_price</th>\n",
              "      <th>discount_percentage</th>\n",
              "      <th>rating</th>\n",
              "      <th>rating_count</th>\n",
              "      <th>about_product</th>\n",
              "      <th>user_id</th>\n",
              "      <th>user_name</th>\n",
              "      <th>review_id</th>\n",
              "      <th>review_title</th>\n",
              "      <th>review_content</th>\n",
              "      <th>img_link</th>\n",
              "      <th>product_link</th>\n",
              "    </tr>\n",
              "  </thead>\n",
              "  <tbody>\n",
              "    <tr>\n",
              "      <th>0</th>\n",
              "      <td>B07JW9H4J1</td>\n",
              "      <td>Wayona Nylon Braided USB to Lightning Fast Cha...</td>\n",
              "      <td>Computers&amp;Accessories|Accessories&amp;Peripherals|...</td>\n",
              "      <td>₹399</td>\n",
              "      <td>₹1,099</td>\n",
              "      <td>64%</td>\n",
              "      <td>4.2</td>\n",
              "      <td>24,269</td>\n",
              "      <td>High Compatibility : Compatible With iPhone 12...</td>\n",
              "      <td>AG3D6O4STAQKAY2UVGEUV46KN35Q,AHMY5CWJMMK5BJRBB...</td>\n",
              "      <td>Manav,Adarsh gupta,Sundeep,S.Sayeed Ahmed,jasp...</td>\n",
              "      <td>R3HXWT0LRP0NMF,R2AJM3LFTLZHFO,R6AQJGUP6P86,R1K...</td>\n",
              "      <td>Satisfied,Charging is really fast,Value for mo...</td>\n",
              "      <td>Looks durable Charging is fine tooNo complains...</td>\n",
              "      <td>https://m.media-amazon.com/images/W/WEBP_40237...</td>\n",
              "      <td>https://www.amazon.in/Wayona-Braided-WN3LG1-Sy...</td>\n",
              "    </tr>\n",
              "    <tr>\n",
              "      <th>1</th>\n",
              "      <td>B098NS6PVG</td>\n",
              "      <td>Ambrane Unbreakable 60W / 3A Fast Charging 1.5...</td>\n",
              "      <td>Computers&amp;Accessories|Accessories&amp;Peripherals|...</td>\n",
              "      <td>₹199</td>\n",
              "      <td>₹349</td>\n",
              "      <td>43%</td>\n",
              "      <td>4.0</td>\n",
              "      <td>43,994</td>\n",
              "      <td>Compatible with all Type C enabled devices, be...</td>\n",
              "      <td>AECPFYFQVRUWC3KGNLJIOREFP5LQ,AGYYVPDD7YG7FYNBX...</td>\n",
              "      <td>ArdKn,Nirbhay kumar,Sagar Viswanathan,Asp,Plac...</td>\n",
              "      <td>RGIQEG07R9HS2,R1SMWZQ86XIN8U,R2J3Y1WL29GWDE,RY...</td>\n",
              "      <td>A Good Braided Cable for Your Type C Device,Go...</td>\n",
              "      <td>I ordered this cable to connect my phone to An...</td>\n",
              "      <td>https://m.media-amazon.com/images/W/WEBP_40237...</td>\n",
              "      <td>https://www.amazon.in/Ambrane-Unbreakable-Char...</td>\n",
              "    </tr>\n",
              "    <tr>\n",
              "      <th>2</th>\n",
              "      <td>B096MSW6CT</td>\n",
              "      <td>Sounce Fast Phone Charging Cable &amp; Data Sync U...</td>\n",
              "      <td>Computers&amp;Accessories|Accessories&amp;Peripherals|...</td>\n",
              "      <td>₹199</td>\n",
              "      <td>₹1,899</td>\n",
              "      <td>90%</td>\n",
              "      <td>3.9</td>\n",
              "      <td>7,928</td>\n",
              "      <td>【 Fast Charger&amp; Data Sync】-With built-in safet...</td>\n",
              "      <td>AGU3BBQ2V2DDAMOAKGFAWDDQ6QHA,AESFLDV2PT363T2AQ...</td>\n",
              "      <td>Kunal,Himanshu,viswanath,sai niharka,saqib mal...</td>\n",
              "      <td>R3J3EQQ9TZI5ZJ,R3E7WBGK7ID0KV,RWU79XKQ6I1QF,R2...</td>\n",
              "      <td>Good speed for earlier versions,Good Product,W...</td>\n",
              "      <td>Not quite durable and sturdy,https://m.media-a...</td>\n",
              "      <td>https://m.media-amazon.com/images/W/WEBP_40237...</td>\n",
              "      <td>https://www.amazon.in/Sounce-iPhone-Charging-C...</td>\n",
              "    </tr>\n",
              "    <tr>\n",
              "      <th>3</th>\n",
              "      <td>B08HDJ86NZ</td>\n",
              "      <td>boAt Deuce USB 300 2 in 1 Type-C &amp; Micro USB S...</td>\n",
              "      <td>Computers&amp;Accessories|Accessories&amp;Peripherals|...</td>\n",
              "      <td>₹329</td>\n",
              "      <td>₹699</td>\n",
              "      <td>53%</td>\n",
              "      <td>4.2</td>\n",
              "      <td>94,363</td>\n",
              "      <td>The boAt Deuce USB 300 2 in 1 cable is compati...</td>\n",
              "      <td>AEWAZDZZJLQUYVOVGBEUKSLXHQ5A,AG5HTSFRRE6NL3M5S...</td>\n",
              "      <td>Omkar dhale,JD,HEMALATHA,Ajwadh a.,amar singh ...</td>\n",
              "      <td>R3EEUZKKK9J36I,R3HJVYCLYOY554,REDECAZ7AMPQC,R1...</td>\n",
              "      <td>Good product,Good one,Nice,Really nice product...</td>\n",
              "      <td>Good product,long wire,Charges good,Nice,I bou...</td>\n",
              "      <td>https://m.media-amazon.com/images/I/41V5FtEWPk...</td>\n",
              "      <td>https://www.amazon.in/Deuce-300-Resistant-Tang...</td>\n",
              "    </tr>\n",
              "    <tr>\n",
              "      <th>4</th>\n",
              "      <td>B08CF3B7N1</td>\n",
              "      <td>Portronics Konnect L 1.2M Fast Charging 3A 8 P...</td>\n",
              "      <td>Computers&amp;Accessories|Accessories&amp;Peripherals|...</td>\n",
              "      <td>₹154</td>\n",
              "      <td>₹399</td>\n",
              "      <td>61%</td>\n",
              "      <td>4.2</td>\n",
              "      <td>16,905</td>\n",
              "      <td>[CHARGE &amp; SYNC FUNCTION]- This cable comes wit...</td>\n",
              "      <td>AE3Q6KSUK5P75D5HFYHCRAOLODSA,AFUGIFH5ZAFXRDSZH...</td>\n",
              "      <td>rahuls6099,Swasat Borah,Ajay Wadke,Pranali,RVK...</td>\n",
              "      <td>R1BP4L2HH9TFUP,R16PVJEXKV6QZS,R2UPDB81N66T4P,R...</td>\n",
              "      <td>As good as original,Decent,Good one for second...</td>\n",
              "      <td>Bought this instead of original apple, does th...</td>\n",
              "      <td>https://m.media-amazon.com/images/W/WEBP_40237...</td>\n",
              "      <td>https://www.amazon.in/Portronics-Konnect-POR-1...</td>\n",
              "    </tr>\n",
              "  </tbody>\n",
              "</table>\n",
              "</div>"
            ],
            "text/plain": [
              "   product_id                                       product_name  \\\n",
              "0  B07JW9H4J1  Wayona Nylon Braided USB to Lightning Fast Cha...   \n",
              "1  B098NS6PVG  Ambrane Unbreakable 60W / 3A Fast Charging 1.5...   \n",
              "2  B096MSW6CT  Sounce Fast Phone Charging Cable & Data Sync U...   \n",
              "3  B08HDJ86NZ  boAt Deuce USB 300 2 in 1 Type-C & Micro USB S...   \n",
              "4  B08CF3B7N1  Portronics Konnect L 1.2M Fast Charging 3A 8 P...   \n",
              "\n",
              "                                            category discounted_price  \\\n",
              "0  Computers&Accessories|Accessories&Peripherals|...             ₹399   \n",
              "1  Computers&Accessories|Accessories&Peripherals|...             ₹199   \n",
              "2  Computers&Accessories|Accessories&Peripherals|...             ₹199   \n",
              "3  Computers&Accessories|Accessories&Peripherals|...             ₹329   \n",
              "4  Computers&Accessories|Accessories&Peripherals|...             ₹154   \n",
              "\n",
              "  actual_price discount_percentage rating rating_count  \\\n",
              "0       ₹1,099                 64%    4.2       24,269   \n",
              "1         ₹349                 43%    4.0       43,994   \n",
              "2       ₹1,899                 90%    3.9        7,928   \n",
              "3         ₹699                 53%    4.2       94,363   \n",
              "4         ₹399                 61%    4.2       16,905   \n",
              "\n",
              "                                       about_product  \\\n",
              "0  High Compatibility : Compatible With iPhone 12...   \n",
              "1  Compatible with all Type C enabled devices, be...   \n",
              "2  【 Fast Charger& Data Sync】-With built-in safet...   \n",
              "3  The boAt Deuce USB 300 2 in 1 cable is compati...   \n",
              "4  [CHARGE & SYNC FUNCTION]- This cable comes wit...   \n",
              "\n",
              "                                             user_id  \\\n",
              "0  AG3D6O4STAQKAY2UVGEUV46KN35Q,AHMY5CWJMMK5BJRBB...   \n",
              "1  AECPFYFQVRUWC3KGNLJIOREFP5LQ,AGYYVPDD7YG7FYNBX...   \n",
              "2  AGU3BBQ2V2DDAMOAKGFAWDDQ6QHA,AESFLDV2PT363T2AQ...   \n",
              "3  AEWAZDZZJLQUYVOVGBEUKSLXHQ5A,AG5HTSFRRE6NL3M5S...   \n",
              "4  AE3Q6KSUK5P75D5HFYHCRAOLODSA,AFUGIFH5ZAFXRDSZH...   \n",
              "\n",
              "                                           user_name  \\\n",
              "0  Manav,Adarsh gupta,Sundeep,S.Sayeed Ahmed,jasp...   \n",
              "1  ArdKn,Nirbhay kumar,Sagar Viswanathan,Asp,Plac...   \n",
              "2  Kunal,Himanshu,viswanath,sai niharka,saqib mal...   \n",
              "3  Omkar dhale,JD,HEMALATHA,Ajwadh a.,amar singh ...   \n",
              "4  rahuls6099,Swasat Borah,Ajay Wadke,Pranali,RVK...   \n",
              "\n",
              "                                           review_id  \\\n",
              "0  R3HXWT0LRP0NMF,R2AJM3LFTLZHFO,R6AQJGUP6P86,R1K...   \n",
              "1  RGIQEG07R9HS2,R1SMWZQ86XIN8U,R2J3Y1WL29GWDE,RY...   \n",
              "2  R3J3EQQ9TZI5ZJ,R3E7WBGK7ID0KV,RWU79XKQ6I1QF,R2...   \n",
              "3  R3EEUZKKK9J36I,R3HJVYCLYOY554,REDECAZ7AMPQC,R1...   \n",
              "4  R1BP4L2HH9TFUP,R16PVJEXKV6QZS,R2UPDB81N66T4P,R...   \n",
              "\n",
              "                                        review_title  \\\n",
              "0  Satisfied,Charging is really fast,Value for mo...   \n",
              "1  A Good Braided Cable for Your Type C Device,Go...   \n",
              "2  Good speed for earlier versions,Good Product,W...   \n",
              "3  Good product,Good one,Nice,Really nice product...   \n",
              "4  As good as original,Decent,Good one for second...   \n",
              "\n",
              "                                      review_content  \\\n",
              "0  Looks durable Charging is fine tooNo complains...   \n",
              "1  I ordered this cable to connect my phone to An...   \n",
              "2  Not quite durable and sturdy,https://m.media-a...   \n",
              "3  Good product,long wire,Charges good,Nice,I bou...   \n",
              "4  Bought this instead of original apple, does th...   \n",
              "\n",
              "                                            img_link  \\\n",
              "0  https://m.media-amazon.com/images/W/WEBP_40237...   \n",
              "1  https://m.media-amazon.com/images/W/WEBP_40237...   \n",
              "2  https://m.media-amazon.com/images/W/WEBP_40237...   \n",
              "3  https://m.media-amazon.com/images/I/41V5FtEWPk...   \n",
              "4  https://m.media-amazon.com/images/W/WEBP_40237...   \n",
              "\n",
              "                                        product_link  \n",
              "0  https://www.amazon.in/Wayona-Braided-WN3LG1-Sy...  \n",
              "1  https://www.amazon.in/Ambrane-Unbreakable-Char...  \n",
              "2  https://www.amazon.in/Sounce-iPhone-Charging-C...  \n",
              "3  https://www.amazon.in/Deuce-300-Resistant-Tang...  \n",
              "4  https://www.amazon.in/Portronics-Konnect-POR-1...  "
            ]
          },
          "execution_count": 2,
          "metadata": {},
          "output_type": "execute_result"
        }
      ],
      "source": [
        "df = pd.read_csv('./data/amazon.csv') #https://www.kaggle.com/datasets/karkavelrajaj/amazon-sales-dataset/\n",
        "df.head()"
      ]
    },
    {
      "cell_type": "markdown",
      "metadata": {},
      "source": [
        "### Simple Exploration"
      ]
    },
    {
      "cell_type": "code",
      "execution_count": 3,
      "metadata": {},
      "outputs": [
        {
          "data": {
            "image/png": "[encoded data removed]",
            "text/plain": [
              "<Figure size 1000x500 with 1 Axes>"
            ]
          },
          "metadata": {},
          "output_type": "display_data"
        }
      ],
      "source": [
        "ax = df['rating'].value_counts().sort_index() \\\n",
        "    .plot(kind='bar',\n",
        "          title='Count of Reviews by rating',\n",
        "          figsize=(10, 5))\n",
        "ax.set_xlabel('Review Ratings')\n",
        "plt.show()"
      ]
    },
    {
      "cell_type": "markdown",
      "metadata": {},
      "source": [
        "### Some Basic NLTK"
      ]
    },
    {
      "cell_type": "code",
      "execution_count": 4,
      "metadata": {},
      "outputs": [
        {
          "name": "stderr",
          "output_type": "stream",
          "text": [
            "[nltk_data] Downloading package punkt to\n",
            "[nltk_data]     C:\\Users\\Matt\\AppData\\Roaming\\nltk_data...\n",
            "[nltk_data]   Package punkt is already up-to-date!\n",
            "[nltk_data] Downloading package averaged_perceptron_tagger to\n",
            "[nltk_data]     C:\\Users\\Matt\\AppData\\Roaming\\nltk_data...\n",
            "[nltk_data]   Package averaged_perceptron_tagger is already up-to-\n",
            "[nltk_data]       date!\n",
            "[nltk_data] Downloading package maxent_ne_chunker to\n",
            "[nltk_data]     C:\\Users\\Matt\\AppData\\Roaming\\nltk_data...\n",
            "[nltk_data]   Package maxent_ne_chunker is already up-to-date!\n",
            "[nltk_data] Downloading package words to\n",
            "[nltk_data]     C:\\Users\\Matt\\AppData\\Roaming\\nltk_data...\n",
            "[nltk_data]   Package words is already up-to-date!\n"
          ]
        },
        {
          "data": {
            "text/plain": [
              "True"
            ]
          },
          "execution_count": 4,
          "metadata": {},
          "output_type": "execute_result"
        }
      ],
      "source": [
        "# nltk downloads \n",
        "\n",
        "nltk.download('punkt') # for nltk.word_tokenize\n",
        "nltk.download('averaged_perceptron_tagger') # for nltk.pos_tag\n",
        "nltk.download('maxent_ne_chunker') # for nltk.chunk.ne_chunk\n",
        "nltk.download('words') # for nltk.chunk.ne_chunk"
      ]
    },
    {
      "cell_type": "code",
      "execution_count": 5,
      "metadata": {},
      "outputs": [
        {
          "name": "stdout",
          "output_type": "stream",
          "text": [
            "Looks durable Charging is fine tooNo complains,Charging is really fast, good product.,Till now satisfied with the quality.,This is a good product . The charging speed is slower than the original iPhone cable,Good quality, would recommend,https://m.media-amazon.com/images/W/WEBP_402378-T1/images/I/81---F1ZgHL._SY88.jpg,Product had worked well till date and was having no issue.Cable is also sturdy enough...Have asked for replacement and company is doing the same...,Value for money\n"
          ]
        }
      ],
      "source": [
        "example = df['review_content'][0]\n",
        "print(example)"
      ]
    },
    {
      "cell_type": "code",
      "execution_count": 6,
      "metadata": {},
      "outputs": [
        {
          "data": {
            "text/plain": [
              "['Looks',\n",
              " 'durable',\n",
              " 'Charging',\n",
              " 'is',\n",
              " 'fine',\n",
              " 'tooNo',\n",
              " 'complains',\n",
              " ',',\n",
              " 'Charging',\n",
              " 'is']"
            ]
          },
          "execution_count": 6,
          "metadata": {},
          "output_type": "execute_result"
        }
      ],
      "source": [
        "tokens = nltk.word_tokenize(example)\n",
        "tokens[:10]"
      ]
    },
    {
      "cell_type": "code",
      "execution_count": 7,
      "metadata": {},
      "outputs": [
        {
          "data": {
            "text/plain": [
              "[('Looks', 'NNP'),\n",
              " ('durable', 'JJ'),\n",
              " ('Charging', 'NNP'),\n",
              " ('is', 'VBZ'),\n",
              " ('fine', 'JJ'),\n",
              " ('tooNo', 'NN'),\n",
              " ('complains', 'NNS'),\n",
              " (',', ','),\n",
              " ('Charging', 'NNP'),\n",
              " ('is', 'VBZ')]"
            ]
          },
          "execution_count": 7,
          "metadata": {},
          "output_type": "execute_result"
        }
      ],
      "source": [
        "tagged = nltk.pos_tag(tokens)\n",
        "tagged[:10]"
      ]
    },
    {
      "cell_type": "code",
      "execution_count": 8,
      "metadata": {},
      "outputs": [
        {
          "name": "stdout",
          "output_type": "stream",
          "text": [
            "(S\n",
            "  (GPE Looks/NNP)\n",
            "  durable/JJ\n",
            "  Charging/NNP\n",
            "  is/VBZ\n",
            "  fine/JJ\n",
            "  tooNo/NN\n",
            "  complains/NNS\n",
            "  ,/,\n",
            "  Charging/NNP\n",
            "  is/VBZ\n",
            "  really/RB\n",
            "  fast/JJ\n",
            "  ,/,\n",
            "  good/JJ\n",
            "  product./NN\n",
            "  ,/,\n",
            "  (PERSON Till/NNP)\n",
            "  now/RB\n",
            "  satisfied/VBZ\n",
            "  with/IN\n",
            "  the/DT\n",
            "  quality./NN\n",
            "  ,/,\n",
            "  This/DT\n",
            "  is/VBZ\n",
            "  a/DT\n",
            "  good/JJ\n",
            "  product/NN\n",
            "  ./.\n",
            "  The/DT\n",
            "  charging/VBG\n",
            "  speed/NN\n",
            "  is/VBZ\n",
            "  slower/JJR\n",
            "  than/IN\n",
            "  the/DT\n",
            "  original/JJ\n",
            "  (ORGANIZATION iPhone/NN)\n",
            "  cable/NN\n",
            "  ,/,\n",
            "  (GPE Good/NNP)\n",
            "  quality/NN\n",
            "  ,/,\n",
            "  would/MD\n",
            "  recommend/VB\n",
            "  ,/,\n",
            "  https/NN\n",
            "  :/:\n",
            "  //m.media-amazon.com/images/W/WEBP_402378-T1/images/I/81/JJ\n",
            "  --/:\n",
            "  -F1ZgHL._SY88.jpg/NN\n",
            "  ,/,\n",
            "  (PERSON Product/NNP)\n",
            "  had/VBD\n",
            "  worked/VBN\n",
            "  well/RB\n",
            "  till/VB\n",
            "  date/NN\n",
            "  and/CC\n",
            "  was/VBD\n",
            "  having/VBG\n",
            "  no/DT\n",
            "  issue.Cable/JJ\n",
            "  is/VBZ\n",
            "  also/RB\n",
            "  sturdy/JJ\n",
            "  enough/RB\n",
            "  .../:\n",
            "  Have/VBP\n",
            "  asked/VBN\n",
            "  for/IN\n",
            "  replacement/NN\n",
            "  and/CC\n",
            "  company/NN\n",
            "  is/VBZ\n",
            "  doing/VBG\n",
            "  the/DT\n",
            "  same/JJ\n",
            "  .../:\n",
            "  ,/,\n",
            "  (PERSON Value/NNP)\n",
            "  for/IN\n",
            "  money/NN)\n"
          ]
        }
      ],
      "source": [
        "entities = nltk.chunk.ne_chunk(tagged)\n",
        "entities.pprint()"
      ]
    },
    {
      "cell_type": "markdown",
      "metadata": {},
      "source": [
        "## VADER Seniment Scoring\n",
        "\n",
        "VADER (Valence Aware Dictionary and sEntiment Reasoner) - Bag of words approach"
      ]
    },
    {
      "cell_type": "code",
      "execution_count": 9,
      "metadata": {},
      "outputs": [
        {
          "name": "stderr",
          "output_type": "stream",
          "text": [
            "[nltk_data] Downloading package vader_lexicon to\n",
            "[nltk_data]     C:\\Users\\Matt\\AppData\\Roaming\\nltk_data...\n",
            "[nltk_data]   Package vader_lexicon is already up-to-date!\n"
          ]
        },
        {
          "data": {
            "text/plain": [
              "True"
            ]
          },
          "execution_count": 9,
          "metadata": {},
          "output_type": "execute_result"
        }
      ],
      "source": [
        "nltk.download('vader_lexicon')"
      ]
    },
    {
      "cell_type": "markdown",
      "metadata": {},
      "source": [
        "### Example Usage"
      ]
    },
    {
      "cell_type": "code",
      "execution_count": 10,
      "metadata": {},
      "outputs": [],
      "source": [
        "from nltk.sentiment import SentimentIntensityAnalyzer\n",
        "from tqdm.notebook import tqdm\n",
        "\n",
        "analyzer_obj = SentimentIntensityAnalyzer()"
      ]
    },
    {
      "cell_type": "code",
      "execution_count": 11,
      "metadata": {},
      "outputs": [
        {
          "data": {
            "text/plain": [
              "{'neg': 0.0, 'neu': 0.213, 'pos': 0.787, 'compound': 0.5719}"
            ]
          },
          "execution_count": 11,
          "metadata": {},
          "output_type": "execute_result"
        }
      ],
      "source": [
        "analyzer_obj.polarity_scores(\"I am happy\")"
      ]
    },
    {
      "cell_type": "code",
      "execution_count": 12,
      "metadata": {},
      "outputs": [
        {
          "data": {
            "text/plain": [
              "{'neg': 0.762, 'neu': 0.238, 'pos': 0.0, 'compound': -0.4939}"
            ]
          },
          "execution_count": 12,
          "metadata": {},
          "output_type": "execute_result"
        }
      ],
      "source": [
        "analyzer_obj.polarity_scores(\"I am mad\")"
      ]
    },
    {
      "cell_type": "code",
      "execution_count": 13,
      "metadata": {},
      "outputs": [
        {
          "data": {
            "text/plain": [
              "{'neg': 0.032, 'neu': 0.744, 'pos': 0.224, 'compound': 0.9033}"
            ]
          },
          "execution_count": 13,
          "metadata": {},
          "output_type": "execute_result"
        }
      ],
      "source": [
        "analyzer_obj.polarity_scores(example)"
      ]
    },
    {
      "cell_type": "markdown",
      "metadata": {},
      "source": [
        "### Scoring our amazon review data "
      ]
    },
    {
      "cell_type": "code",
      "execution_count": 14,
      "metadata": {},
      "outputs": [
        {
          "data": {
            "application/vnd.jupyter.widget-view+json": {
              "model_id": "b8da210359d54f7392067d9b84c1876d",
              "version_major": 2,
              "version_minor": 0
            },
            "text/plain": [
              "  0%|          | 0/1465 [00:00<?, ?it/s]"
            ]
          },
          "metadata": {},
          "output_type": "display_data"
        }
      ],
      "source": [
        "# Get the polarity scores for the entire dataset\n",
        "results = {}\n",
        "for idx, row in tqdm(df.iterrows(), total=len(df)):\n",
        "    d = analyzer_obj.polarity_scores(row['review_content'])\n",
        "    d['review_id'] = row['review_id']\n",
        "    results[idx] = d"
      ]
    },
    {
      "cell_type": "code",
      "execution_count": 15,
      "metadata": {},
      "outputs": [
        {
          "data": {
            "text/html": [
              "<div>\n",
              "<style scoped>\n",
              "    .dataframe tbody tr th:only-of-type {\n",
              "        vertical-align: middle;\n",
              "    }\n",
              "\n",
              "    .dataframe tbody tr th {\n",
              "        vertical-align: top;\n",
              "    }\n",
              "\n",
              "    .dataframe thead th {\n",
              "        text-align: right;\n",
              "    }\n",
              "</style>\n",
              "<table border=\"1\" class=\"dataframe\">\n",
              "  <thead>\n",
              "    <tr style=\"text-align: right;\">\n",
              "      <th></th>\n",
              "      <th>neg</th>\n",
              "      <th>neu</th>\n",
              "      <th>pos</th>\n",
              "      <th>compound</th>\n",
              "      <th>review_id</th>\n",
              "    </tr>\n",
              "  </thead>\n",
              "  <tbody>\n",
              "    <tr>\n",
              "      <th>0</th>\n",
              "      <td>0.032</td>\n",
              "      <td>0.744</td>\n",
              "      <td>0.224</td>\n",
              "      <td>0.9033</td>\n",
              "      <td>R3HXWT0LRP0NMF,R2AJM3LFTLZHFO,R6AQJGUP6P86,R1K...</td>\n",
              "    </tr>\n",
              "    <tr>\n",
              "      <th>1</th>\n",
              "      <td>0.01</td>\n",
              "      <td>0.821</td>\n",
              "      <td>0.169</td>\n",
              "      <td>0.9853</td>\n",
              "      <td>RGIQEG07R9HS2,R1SMWZQ86XIN8U,R2J3Y1WL29GWDE,RY...</td>\n",
              "    </tr>\n",
              "    <tr>\n",
              "      <th>2</th>\n",
              "      <td>0.0</td>\n",
              "      <td>0.641</td>\n",
              "      <td>0.359</td>\n",
              "      <td>0.6808</td>\n",
              "      <td>R3J3EQQ9TZI5ZJ,R3E7WBGK7ID0KV,RWU79XKQ6I1QF,R2...</td>\n",
              "    </tr>\n",
              "    <tr>\n",
              "      <th>3</th>\n",
              "      <td>0.028</td>\n",
              "      <td>0.8</td>\n",
              "      <td>0.172</td>\n",
              "      <td>0.8316</td>\n",
              "      <td>R3EEUZKKK9J36I,R3HJVYCLYOY554,REDECAZ7AMPQC,R1...</td>\n",
              "    </tr>\n",
              "    <tr>\n",
              "      <th>4</th>\n",
              "      <td>0.116</td>\n",
              "      <td>0.719</td>\n",
              "      <td>0.165</td>\n",
              "      <td>0.9809</td>\n",
              "      <td>R1BP4L2HH9TFUP,R16PVJEXKV6QZS,R2UPDB81N66T4P,R...</td>\n",
              "    </tr>\n",
              "  </tbody>\n",
              "</table>\n",
              "</div>"
            ],
            "text/plain": [
              "     neg    neu    pos compound  \\\n",
              "0  0.032  0.744  0.224   0.9033   \n",
              "1   0.01  0.821  0.169   0.9853   \n",
              "2    0.0  0.641  0.359   0.6808   \n",
              "3  0.028    0.8  0.172   0.8316   \n",
              "4  0.116  0.719  0.165   0.9809   \n",
              "\n",
              "                                           review_id  \n",
              "0  R3HXWT0LRP0NMF,R2AJM3LFTLZHFO,R6AQJGUP6P86,R1K...  \n",
              "1  RGIQEG07R9HS2,R1SMWZQ86XIN8U,R2J3Y1WL29GWDE,RY...  \n",
              "2  R3J3EQQ9TZI5ZJ,R3E7WBGK7ID0KV,RWU79XKQ6I1QF,R2...  \n",
              "3  R3EEUZKKK9J36I,R3HJVYCLYOY554,REDECAZ7AMPQC,R1...  \n",
              "4  R1BP4L2HH9TFUP,R16PVJEXKV6QZS,R2UPDB81N66T4P,R...  "
            ]
          },
          "execution_count": 15,
          "metadata": {},
          "output_type": "execute_result"
        }
      ],
      "source": [
        "# convert sentiment scores to pandas dataframe\n",
        "\n",
        "vaders_df = pd.DataFrame(results).T\n",
        "vaders_df.head()"
      ]
    },
    {
      "cell_type": "code",
      "execution_count": 16,
      "metadata": {},
      "outputs": [
        {
          "data": {
            "text/html": [
              "<div>\n",
              "<style scoped>\n",
              "    .dataframe tbody tr th:only-of-type {\n",
              "        vertical-align: middle;\n",
              "    }\n",
              "\n",
              "    .dataframe tbody tr th {\n",
              "        vertical-align: top;\n",
              "    }\n",
              "\n",
              "    .dataframe thead th {\n",
              "        text-align: right;\n",
              "    }\n",
              "</style>\n",
              "<table border=\"1\" class=\"dataframe\">\n",
              "  <thead>\n",
              "    <tr style=\"text-align: right;\">\n",
              "      <th></th>\n",
              "      <th>neg</th>\n",
              "      <th>neu</th>\n",
              "      <th>pos</th>\n",
              "      <th>compound</th>\n",
              "      <th>review_id</th>\n",
              "      <th>product_id</th>\n",
              "      <th>product_name</th>\n",
              "      <th>category</th>\n",
              "      <th>discounted_price</th>\n",
              "      <th>actual_price</th>\n",
              "      <th>discount_percentage</th>\n",
              "      <th>rating</th>\n",
              "      <th>rating_count</th>\n",
              "      <th>about_product</th>\n",
              "      <th>user_id</th>\n",
              "      <th>user_name</th>\n",
              "      <th>review_title</th>\n",
              "      <th>review_content</th>\n",
              "      <th>img_link</th>\n",
              "      <th>product_link</th>\n",
              "    </tr>\n",
              "  </thead>\n",
              "  <tbody>\n",
              "    <tr>\n",
              "      <th>0</th>\n",
              "      <td>0.032</td>\n",
              "      <td>0.744</td>\n",
              "      <td>0.224</td>\n",
              "      <td>0.9033</td>\n",
              "      <td>R3HXWT0LRP0NMF,R2AJM3LFTLZHFO,R6AQJGUP6P86,R1K...</td>\n",
              "      <td>B07JW9H4J1</td>\n",
              "      <td>Wayona Nylon Braided USB to Lightning Fast Cha...</td>\n",
              "      <td>Computers&amp;Accessories|Accessories&amp;Peripherals|...</td>\n",
              "      <td>₹399</td>\n",
              "      <td>₹1,099</td>\n",
              "      <td>64%</td>\n",
              "      <td>4.2</td>\n",
              "      <td>24,269</td>\n",
              "      <td>High Compatibility : Compatible With iPhone 12...</td>\n",
              "      <td>AG3D6O4STAQKAY2UVGEUV46KN35Q,AHMY5CWJMMK5BJRBB...</td>\n",
              "      <td>Manav,Adarsh gupta,Sundeep,S.Sayeed Ahmed,jasp...</td>\n",
              "      <td>Satisfied,Charging is really fast,Value for mo...</td>\n",
              "      <td>Looks durable Charging is fine tooNo complains...</td>\n",
              "      <td>https://m.media-amazon.com/images/W/WEBP_40237...</td>\n",
              "      <td>https://www.amazon.in/Wayona-Braided-WN3LG1-Sy...</td>\n",
              "    </tr>\n",
              "    <tr>\n",
              "      <th>1</th>\n",
              "      <td>0.032</td>\n",
              "      <td>0.744</td>\n",
              "      <td>0.224</td>\n",
              "      <td>0.9033</td>\n",
              "      <td>R3HXWT0LRP0NMF,R2AJM3LFTLZHFO,R6AQJGUP6P86,R1K...</td>\n",
              "      <td>B07JW1Y6XV</td>\n",
              "      <td>Wayona Nylon Braided 3A Lightning to USB A Syn...</td>\n",
              "      <td>Computers&amp;Accessories|Accessories&amp;Peripherals|...</td>\n",
              "      <td>₹399</td>\n",
              "      <td>₹1,099</td>\n",
              "      <td>64%</td>\n",
              "      <td>4.2</td>\n",
              "      <td>24,269</td>\n",
              "      <td>[High Compatibility] : iPhone X/XsMax/Xr ,iPho...</td>\n",
              "      <td>AG3D6O4STAQKAY2UVGEUV46KN35Q,AHMY5CWJMMK5BJRBB...</td>\n",
              "      <td>Manav,Adarsh gupta,Sundeep,S.Sayeed Ahmed,jasp...</td>\n",
              "      <td>Satisfied,Charging is really fast,Value for mo...</td>\n",
              "      <td>Looks durable Charging is fine tooNo complains...</td>\n",
              "      <td>https://m.media-amazon.com/images/W/WEBP_40237...</td>\n",
              "      <td>https://www.amazon.in/Wayona-Braided-WN3LB1-Sy...</td>\n",
              "    </tr>\n",
              "    <tr>\n",
              "      <th>2</th>\n",
              "      <td>0.032</td>\n",
              "      <td>0.744</td>\n",
              "      <td>0.224</td>\n",
              "      <td>0.9033</td>\n",
              "      <td>R3HXWT0LRP0NMF,R2AJM3LFTLZHFO,R6AQJGUP6P86,R1K...</td>\n",
              "      <td>B07LGT55SJ</td>\n",
              "      <td>Wayona Usb Nylon Braided Data Sync And Chargin...</td>\n",
              "      <td>Computers&amp;Accessories|Accessories&amp;Peripherals|...</td>\n",
              "      <td>₹399</td>\n",
              "      <td>₹1,099</td>\n",
              "      <td>64%</td>\n",
              "      <td>4.2</td>\n",
              "      <td>24,269</td>\n",
              "      <td>[High Compatibility] : Compatible For iPhone X...</td>\n",
              "      <td>AG3D6O4STAQKAY2UVGEUV46KN35Q,AHMY5CWJMMK5BJRBB...</td>\n",
              "      <td>Manav,Adarsh gupta,Sundeep,S.Sayeed Ahmed,jasp...</td>\n",
              "      <td>Satisfied,Charging is really fast,Value for mo...</td>\n",
              "      <td>Looks durable Charging is fine tooNo complains...</td>\n",
              "      <td>https://m.media-amazon.com/images/W/WEBP_40237...</td>\n",
              "      <td>https://www.amazon.in/Wayona-Braided-Syncing-C...</td>\n",
              "    </tr>\n",
              "    <tr>\n",
              "      <th>3</th>\n",
              "      <td>0.032</td>\n",
              "      <td>0.744</td>\n",
              "      <td>0.224</td>\n",
              "      <td>0.9033</td>\n",
              "      <td>R3HXWT0LRP0NMF,R2AJM3LFTLZHFO,R6AQJGUP6P86,R1K...</td>\n",
              "      <td>B07JH1C41D</td>\n",
              "      <td>Wayona Nylon Braided (2 Pack) Lightning Fast U...</td>\n",
              "      <td>Computers&amp;Accessories|Accessories&amp;Peripherals|...</td>\n",
              "      <td>₹649</td>\n",
              "      <td>₹1,999</td>\n",
              "      <td>68%</td>\n",
              "      <td>4.2</td>\n",
              "      <td>24,269</td>\n",
              "      <td>[High Compatibility] : iPhone X/XsMax/Xr ,iPho...</td>\n",
              "      <td>AG3D6O4STAQKAY2UVGEUV46KN35Q,AHMY5CWJMMK5BJRBB...</td>\n",
              "      <td>Manav,Adarsh gupta,Sundeep,S.Sayeed Ahmed,jasp...</td>\n",
              "      <td>Satisfied,Charging is really fast,Value for mo...</td>\n",
              "      <td>Looks durable Charging is fine tooNo complains...</td>\n",
              "      <td>https://m.media-amazon.com/images/I/412fvb7k2F...</td>\n",
              "      <td>https://www.amazon.in/Wayona-Braided-WN3LG2-Sy...</td>\n",
              "    </tr>\n",
              "    <tr>\n",
              "      <th>4</th>\n",
              "      <td>0.032</td>\n",
              "      <td>0.744</td>\n",
              "      <td>0.224</td>\n",
              "      <td>0.9033</td>\n",
              "      <td>R3HXWT0LRP0NMF,R2AJM3LFTLZHFO,R6AQJGUP6P86,R1K...</td>\n",
              "      <td>B07JGDB5M1</td>\n",
              "      <td>Wayona Nylon Braided 2M / 6Ft Fast Charge Usb ...</td>\n",
              "      <td>Computers&amp;Accessories|Accessories&amp;Peripherals|...</td>\n",
              "      <td>₹449</td>\n",
              "      <td>₹1,299</td>\n",
              "      <td>65%</td>\n",
              "      <td>4.2</td>\n",
              "      <td>24,269</td>\n",
              "      <td>[High Compatibility] : Phone X/XsMax/Xr ,Phone...</td>\n",
              "      <td>AG3D6O4STAQKAY2UVGEUV46KN35Q,AHMY5CWJMMK5BJRBB...</td>\n",
              "      <td>Manav,Adarsh gupta,Sundeep,S.Sayeed Ahmed,jasp...</td>\n",
              "      <td>Satisfied,Charging is really fast,Value for mo...</td>\n",
              "      <td>Looks durable Charging is fine tooNo complains...</td>\n",
              "      <td>https://m.media-amazon.com/images/W/WEBP_40237...</td>\n",
              "      <td>https://www.amazon.in/Wayona-Braided-WN6LG1-Sy...</td>\n",
              "    </tr>\n",
              "  </tbody>\n",
              "</table>\n",
              "</div>"
            ],
            "text/plain": [
              "     neg    neu    pos compound  \\\n",
              "0  0.032  0.744  0.224   0.9033   \n",
              "1  0.032  0.744  0.224   0.9033   \n",
              "2  0.032  0.744  0.224   0.9033   \n",
              "3  0.032  0.744  0.224   0.9033   \n",
              "4  0.032  0.744  0.224   0.9033   \n",
              "\n",
              "                                           review_id  product_id  \\\n",
              "0  R3HXWT0LRP0NMF,R2AJM3LFTLZHFO,R6AQJGUP6P86,R1K...  B07JW9H4J1   \n",
              "1  R3HXWT0LRP0NMF,R2AJM3LFTLZHFO,R6AQJGUP6P86,R1K...  B07JW1Y6XV   \n",
              "2  R3HXWT0LRP0NMF,R2AJM3LFTLZHFO,R6AQJGUP6P86,R1K...  B07LGT55SJ   \n",
              "3  R3HXWT0LRP0NMF,R2AJM3LFTLZHFO,R6AQJGUP6P86,R1K...  B07JH1C41D   \n",
              "4  R3HXWT0LRP0NMF,R2AJM3LFTLZHFO,R6AQJGUP6P86,R1K...  B07JGDB5M1   \n",
              "\n",
              "                                        product_name  \\\n",
              "0  Wayona Nylon Braided USB to Lightning Fast Cha...   \n",
              "1  Wayona Nylon Braided 3A Lightning to USB A Syn...   \n",
              "2  Wayona Usb Nylon Braided Data Sync And Chargin...   \n",
              "3  Wayona Nylon Braided (2 Pack) Lightning Fast U...   \n",
              "4  Wayona Nylon Braided 2M / 6Ft Fast Charge Usb ...   \n",
              "\n",
              "                                            category discounted_price  \\\n",
              "0  Computers&Accessories|Accessories&Peripherals|...             ₹399   \n",
              "1  Computers&Accessories|Accessories&Peripherals|...             ₹399   \n",
              "2  Computers&Accessories|Accessories&Peripherals|...             ₹399   \n",
              "3  Computers&Accessories|Accessories&Peripherals|...             ₹649   \n",
              "4  Computers&Accessories|Accessories&Peripherals|...             ₹449   \n",
              "\n",
              "  actual_price discount_percentage rating rating_count  \\\n",
              "0       ₹1,099                 64%    4.2       24,269   \n",
              "1       ₹1,099                 64%    4.2       24,269   \n",
              "2       ₹1,099                 64%    4.2       24,269   \n",
              "3       ₹1,999                 68%    4.2       24,269   \n",
              "4       ₹1,299                 65%    4.2       24,269   \n",
              "\n",
              "                                       about_product  \\\n",
              "0  High Compatibility : Compatible With iPhone 12...   \n",
              "1  [High Compatibility] : iPhone X/XsMax/Xr ,iPho...   \n",
              "2  [High Compatibility] : Compatible For iPhone X...   \n",
              "3  [High Compatibility] : iPhone X/XsMax/Xr ,iPho...   \n",
              "4  [High Compatibility] : Phone X/XsMax/Xr ,Phone...   \n",
              "\n",
              "                                             user_id  \\\n",
              "0  AG3D6O4STAQKAY2UVGEUV46KN35Q,AHMY5CWJMMK5BJRBB...   \n",
              "1  AG3D6O4STAQKAY2UVGEUV46KN35Q,AHMY5CWJMMK5BJRBB...   \n",
              "2  AG3D6O4STAQKAY2UVGEUV46KN35Q,AHMY5CWJMMK5BJRBB...   \n",
              "3  AG3D6O4STAQKAY2UVGEUV46KN35Q,AHMY5CWJMMK5BJRBB...   \n",
              "4  AG3D6O4STAQKAY2UVGEUV46KN35Q,AHMY5CWJMMK5BJRBB...   \n",
              "\n",
              "                                           user_name  \\\n",
              "0  Manav,Adarsh gupta,Sundeep,S.Sayeed Ahmed,jasp...   \n",
              "1  Manav,Adarsh gupta,Sundeep,S.Sayeed Ahmed,jasp...   \n",
              "2  Manav,Adarsh gupta,Sundeep,S.Sayeed Ahmed,jasp...   \n",
              "3  Manav,Adarsh gupta,Sundeep,S.Sayeed Ahmed,jasp...   \n",
              "4  Manav,Adarsh gupta,Sundeep,S.Sayeed Ahmed,jasp...   \n",
              "\n",
              "                                        review_title  \\\n",
              "0  Satisfied,Charging is really fast,Value for mo...   \n",
              "1  Satisfied,Charging is really fast,Value for mo...   \n",
              "2  Satisfied,Charging is really fast,Value for mo...   \n",
              "3  Satisfied,Charging is really fast,Value for mo...   \n",
              "4  Satisfied,Charging is really fast,Value for mo...   \n",
              "\n",
              "                                      review_content  \\\n",
              "0  Looks durable Charging is fine tooNo complains...   \n",
              "1  Looks durable Charging is fine tooNo complains...   \n",
              "2  Looks durable Charging is fine tooNo complains...   \n",
              "3  Looks durable Charging is fine tooNo complains...   \n",
              "4  Looks durable Charging is fine tooNo complains...   \n",
              "\n",
              "                                            img_link  \\\n",
              "0  https://m.media-amazon.com/images/W/WEBP_40237...   \n",
              "1  https://m.media-amazon.com/images/W/WEBP_40237...   \n",
              "2  https://m.media-amazon.com/images/W/WEBP_40237...   \n",
              "3  https://m.media-amazon.com/images/I/412fvb7k2F...   \n",
              "4  https://m.media-amazon.com/images/W/WEBP_40237...   \n",
              "\n",
              "                                        product_link  \n",
              "0  https://www.amazon.in/Wayona-Braided-WN3LG1-Sy...  \n",
              "1  https://www.amazon.in/Wayona-Braided-WN3LB1-Sy...  \n",
              "2  https://www.amazon.in/Wayona-Braided-Syncing-C...  \n",
              "3  https://www.amazon.in/Wayona-Braided-WN3LG2-Sy...  \n",
              "4  https://www.amazon.in/Wayona-Braided-WN6LG1-Sy...  "
            ]
          },
          "execution_count": 16,
          "metadata": {},
          "output_type": "execute_result"
        }
      ],
      "source": [
        "# combine sentiment scoring with metadata \n",
        "\n",
        "vaders_df = vaders_df.merge(df, how=\"left\")\n",
        "vaders_df.head()"
      ]
    },
    {
      "cell_type": "markdown",
      "metadata": {},
      "source": [
        "### Plot VADER results"
      ]
    },
    {
      "cell_type": "code",
      "execution_count": 17,
      "metadata": {},
      "outputs": [
        {
          "data": {
            "image/png": "[encoded data removed]",
            "text/plain": [
              "<Figure size 640x480 with 1 Axes>"
            ]
          },
          "metadata": {},
          "output_type": "display_data"
        }
      ],
      "source": [
        "import matplotlib.pyplot as plt\n",
        "import seaborn as sns\n",
        "\n",
        "ax = sns.barplot(data=vaders_df.head(1000), x='rating', y='compound')\n",
        "ax.set_title('Review compound score by user rating')\n",
        "plt.show()"
      ]
    },
    {
      "cell_type": "code",
      "execution_count": 18,
      "metadata": {},
      "outputs": [
        {
          "data": {
            "image/png": "[encoded data removed]",
            "text/plain": [
              "<Figure size 1200x300 with 3 Axes>"
            ]
          },
          "metadata": {},
          "output_type": "display_data"
        }
      ],
      "source": [
        "fig1, axs1 = plt.subplots(1, 3, figsize=(12, 3))\n",
        "sns.barplot(data=vaders_df.head(1000), x='rating', y='pos', ax=axs1[0])\n",
        "sns.barplot(data=vaders_df.head(1000), x='rating', y='neu', ax=axs1[1])\n",
        "sns.barplot(data=vaders_df.head(1000), x='rating', y='neg', ax=axs1[2])\n",
        "axs1[0].set_title('Positive')\n",
        "axs1[1].set_title('Neutral')\n",
        "axs1[2].set_title('Negative')\n",
        "plt.tight_layout()\n",
        "plt.show()"
      ]
    },
    {
      "cell_type": "markdown",
      "metadata": {},
      "source": [
        "You can see in the plot that most of the reviews in the dataset are positive and the model is generally accurate with the scoring"
      ]
    },
    {
      "cell_type": "markdown",
      "metadata": {},
      "source": [
        "## Huggingface pipeline"
      ]
    },
    {
      "cell_type": "markdown",
      "metadata": {},
      "source": [
        "The following is an example of importing a model from the huggingface, which has a ton of free models available for public use."
      ]
    },
    {
      "cell_type": "code",
      "execution_count": 19,
      "metadata": {},
      "outputs": [],
      "source": [
        "from transformers import pipeline"
      ]
    },
    {
      "cell_type": "code",
      "execution_count": 20,
      "metadata": {},
      "outputs": [
        {
          "name": "stderr",
          "output_type": "stream",
          "text": [
            "No model was supplied, defaulted to distilbert-base-uncased-finetuned-sst-2-english and revision af0f99b (https://huggingface.co/distilbert-base-uncased-finetuned-sst-2-english).\n",
            "Using a pipeline without specifying a model name and revision in production is not recommended.\n"
          ]
        }
      ],
      "source": [
        "sent_pipeline = pipeline(\"sentiment-analysis\")"
      ]
    },
    {
      "cell_type": "code",
      "execution_count": 21,
      "metadata": {},
      "outputs": [
        {
          "name": "stdout",
          "output_type": "stream",
          "text": [
            "Review 1\n",
            "Title: Satisfied,Charging is really fast,Value for money,Product review,Good quality,Good product,Good Product,As of now seems good\n",
            "Rating: 4.2\n",
            "Hugging face default sentiment analysis model score:\n",
            "[{'label': 'POSITIVE', 'score': 0.9840972423553467}]\n",
            "Content:\n",
            "Looks durable Charging is fine tooNo complains,Charging is really fast, good product.,Till now satisfied with the quality.,This is a good product . The charging speed is slower than the original iPhone cable,Good quality, would recommend,https://m.media-amazon.com/images/W/WEBP_402378-T1/images/I/81---F1ZgHL._SY88.jpg,Product had worked well till date and was having no issue.Cable is also sturdy enough...Have asked for replacement and company is doing the same...,Value for money\n",
            "\n",
            "Review 2\n",
            "Title: A Good Braided Cable for Your Type C Device,Good quality product from ambrane,Super cable,As,Good quality,Good product,its good,Good quality for the price but one issue with my unit\n",
            "Rating: 4.0\n",
            "Hugging face default sentiment analysis model score:\n",
            "[{'label': 'POSITIVE', 'score': 0.9995031356811523}]\n",
            "Content:\n",
            "I ordered this cable to connect my phone to Android Auto of car. The cable is really strong and the connection ports are really well made. I already has a Micro USB cable from Ambrane and it's still in good shape. I connected my phone to the car using the cable and it got connected well and no issues. I also connected it to the charging port and yes it has Fast Charging support.,It quality is good at this price and the main thing is that i didn't ever thought that this cable will be so long it's good one and charging power is too good and also supports fast charging,Value for money, with extra length👍,Good, working fine,Product quality is good,Good,very good,Bought for my daughter's old phone.Brand new cable it was not charging, I already repacked and requested for replacement.I checked again, and there was some green colour paste/fungus inside the micro USB connector. I cleaned with an alcoholic and starts working again.Checked the ampere of charging speed got around 1400ma-1500ma - not bad, came with braided 1.5m long cable, pretty impressive for the price.Can't blame the manufacturer.But quality issues by the distributor, they might have stored in very humid place.\n",
            "\n",
            "Review 3\n",
            "Title: Good speed for earlier versions,Good Product,Working good,Good for the price,Good,Worth for money,Working nice,it's a really nice product\n",
            "Rating: 3.9\n",
            "Hugging face default sentiment analysis model score:\n",
            "[{'label': 'POSITIVE', 'score': 0.9805770516395569}]\n",
            "Content:\n",
            "Not quite durable and sturdy,https://m.media-amazon.com/images/W/WEBP_402378-T1/images/I/71rIggrbUCL._SY88.jpg,Working good,https://m.media-amazon.com/images/W/WEBP_402378-T1/images/I/61bKp9YO6wL._SY88.jpg,Product,Very nice product,Working well,It's a really nice product\n",
            "\n"
          ]
        }
      ],
      "source": [
        "for index, row in df.head(3).iterrows():\n",
        "    print(f\"Review {index+1}\")\n",
        "    print(f\"Title: {row['review_title']}\")\n",
        "    print(f\"Rating: {row['rating']}\")\n",
        "    print(f\"Hugging face default sentiment analysis model score:\\n{sent_pipeline(row['review_content'][:512])}\")\n",
        "    print(f\"Content:\\n{row['review_content']}\")\n",
        "    print()"
      ]
    },
    {
      "cell_type": "markdown",
      "metadata": {},
      "source": [
        "### Sources\n",
        "\n",
        "- Dataset: https://www.kaggle.com/datasets/karkavelrajaj/amazon-sales-dataset/\n",
        "- Learning Resources\n",
        "    - https://www.youtube.com/watch?v=QpzMWQvxXWk\n",
        "    - https://towardsdatascience.com/intro-to-nltk-for-nlp-with-python-87da6670dde\n",
        "    - https://www.datacamp.com/tutorial/text-analytics-beginners-nltk\n",
        "    - good ol chatgpt"
      ]
    }
  ],
  "metadata": {
    "colab": {
      "provenance": []
    },
    "kernelspec": {
      "display_name": "Python 3",
      "name": "python3"
    },
    "language_info": {
      "codemirror_mode": {
        "name": "ipython",
        "version": 3
      },
      "file_extension": ".py",
      "mimetype": "text/x-python",
      "name": "python",
      "nbconvert_exporter": "python",
      "pygments_lexer": "ipython3",
      "version": "3.11.4"
    }
  },
  "nbformat": 4,
  "nbformat_minor": 0
}
