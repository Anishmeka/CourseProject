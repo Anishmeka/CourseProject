{
 "cells": [
  {
   "cell_type": "code",
   "execution_count": null,
   "metadata": {},
   "outputs": [],
   "source": [
    "import pandas as pd\n",
    "from sklearn.model_selection import train_test_split\n",
    "from sklearn.feature_extraction.text import CountVectorizer\n",
    "from sklearn.metrics import classification_report\n",
    "df = pd.read_csv('./data/amazon.csv')\n",
    "df.head()"
   ]
  },
  {
   "cell_type": "code",
   "execution_count": null,
   "metadata": {},
   "outputs": [],
   "source": [
    "from sklearn.feature_extraction.text import TfidfVectorizer\n",
    "X = df['review_content']\n",
    "y = pd.to_numeric(df['rating'], 'coerce').fillna(0).astype(float) >= 4\n",
    "# Use TfidfVectorizer to convert a collection of raw documents to a matrix of TF-IDF features\n",
    "vectorizer = TfidfVectorizer(min_df = 5,\n",
    "                             max_df = 0.8,\n",
    "                             sublinear_tf = True,\n",
    "                             use_idf = True)\n",
    "vectors = vectorizer.fit_transform(X)\n",
    "X_train, X_test, y_train, y_test = train_test_split(vectors, y, stratify=y, test_size=0.25, random_state=42)\n",
    "classifier_linear = svm.SVC(kernel='linear')\n",
    "classifier_linear.fit(X_train, y_train)\n",
    "# Make predictions on the test set using the SVM classifier\n",
    "prediction_linear = classifier_linear.predict(X_test)\n",
    "report = classification_report(y_test, prediction_linear, output_dict=True)"
   ]
  }
 ],
 "metadata": {
  "language_info": {
   "name": "python"
  }
 },
 "nbformat": 4,
 "nbformat_minor": 2
}
