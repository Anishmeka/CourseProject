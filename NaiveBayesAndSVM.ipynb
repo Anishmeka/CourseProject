{
  "nbformat": 4,
  "nbformat_minor": 0,
  "metadata": {
    "colab": {
      "provenance": []
    },
    "kernelspec": {
      "name": "python3",
      "display_name": "Python 3"
    },
    "language_info": {
      "name": "python"
    }
  },
  "cells": [
    {
      "cell_type": "code",
      "execution_count": 1,
      "metadata": {
        "colab": {
          "base_uri": "https://localhost:8080/"
        },
        "id": "xha7ZKQaJ7od",
        "outputId": "69766c5e-1bb9-47f7-f7b9-91b4b11eddc2"
      },
      "outputs": [
        {
          "output_type": "stream",
          "name": "stdout",
          "text": [
            "Mounted at /content/gdrive/\n"
          ]
        }
      ],
      "source": [
        "import pandas as pd\n",
        "from google.colab import drive\n",
        "drive.mount('/content/gdrive/')"
      ]
    },
    {
      "cell_type": "code",
      "source": [
        "from sklearn.model_selection import train_test_split\n",
        "from sklearn.feature_extraction.text import CountVectorizer"
      ],
      "metadata": {
        "id": "w9QhKeNPMlib"
      },
      "execution_count": 2,
      "outputs": []
    },
    {
      "cell_type": "code",
      "source": [
        "df = pd.read_csv('/content/gdrive/MyDrive/data/amazon.csv')\n",
        "df.head()"
      ],
      "metadata": {
        "colab": {
          "base_uri": "https://localhost:8080/",
          "height": 521
        },
        "id": "rcg0fG3OJ-qn",
        "outputId": "34bcbb8e-a06e-4c8f-d3f3-2b621a8dbce8"
      },
      "execution_count": 52,
      "outputs": [
        {
          "output_type": "execute_result",
          "data": {
            "text/plain": [
              "   product_id                                       product_name  \\\n",
              "0  B07JW9H4J1  Wayona Nylon Braided USB to Lightning Fast Cha...   \n",
              "1  B098NS6PVG  Ambrane Unbreakable 60W / 3A Fast Charging 1.5...   \n",
              "2  B096MSW6CT  Sounce Fast Phone Charging Cable & Data Sync U...   \n",
              "3  B08HDJ86NZ  boAt Deuce USB 300 2 in 1 Type-C & Micro USB S...   \n",
              "4  B08CF3B7N1  Portronics Konnect L 1.2M Fast Charging 3A 8 P...   \n",
              "\n",
              "                                            category discounted_price  \\\n",
              "0  Computers&Accessories|Accessories&Peripherals|...             ₹399   \n",
              "1  Computers&Accessories|Accessories&Peripherals|...             ₹199   \n",
              "2  Computers&Accessories|Accessories&Peripherals|...             ₹199   \n",
              "3  Computers&Accessories|Accessories&Peripherals|...             ₹329   \n",
              "4  Computers&Accessories|Accessories&Peripherals|...             ₹154   \n",
              "\n",
              "  actual_price discount_percentage rating rating_count  \\\n",
              "0       ₹1,099                 64%    4.2       24,269   \n",
              "1         ₹349                 43%    4.0       43,994   \n",
              "2       ₹1,899                 90%    3.9        7,928   \n",
              "3         ₹699                 53%    4.2       94,363   \n",
              "4         ₹399                 61%    4.2       16,905   \n",
              "\n",
              "                                       about_product  \\\n",
              "0  High Compatibility : Compatible With iPhone 12...   \n",
              "1  Compatible with all Type C enabled devices, be...   \n",
              "2  【 Fast Charger& Data Sync】-With built-in safet...   \n",
              "3  The boAt Deuce USB 300 2 in 1 cable is compati...   \n",
              "4  [CHARGE & SYNC FUNCTION]- This cable comes wit...   \n",
              "\n",
              "                                             user_id  \\\n",
              "0  AG3D6O4STAQKAY2UVGEUV46KN35Q,AHMY5CWJMMK5BJRBB...   \n",
              "1  AECPFYFQVRUWC3KGNLJIOREFP5LQ,AGYYVPDD7YG7FYNBX...   \n",
              "2  AGU3BBQ2V2DDAMOAKGFAWDDQ6QHA,AESFLDV2PT363T2AQ...   \n",
              "3  AEWAZDZZJLQUYVOVGBEUKSLXHQ5A,AG5HTSFRRE6NL3M5S...   \n",
              "4  AE3Q6KSUK5P75D5HFYHCRAOLODSA,AFUGIFH5ZAFXRDSZH...   \n",
              "\n",
              "                                           user_name  \\\n",
              "0  Manav,Adarsh gupta,Sundeep,S.Sayeed Ahmed,jasp...   \n",
              "1  ArdKn,Nirbhay kumar,Sagar Viswanathan,Asp,Plac...   \n",
              "2  Kunal,Himanshu,viswanath,sai niharka,saqib mal...   \n",
              "3  Omkar dhale,JD,HEMALATHA,Ajwadh a.,amar singh ...   \n",
              "4  rahuls6099,Swasat Borah,Ajay Wadke,Pranali,RVK...   \n",
              "\n",
              "                                           review_id  \\\n",
              "0  R3HXWT0LRP0NMF,R2AJM3LFTLZHFO,R6AQJGUP6P86,R1K...   \n",
              "1  RGIQEG07R9HS2,R1SMWZQ86XIN8U,R2J3Y1WL29GWDE,RY...   \n",
              "2  R3J3EQQ9TZI5ZJ,R3E7WBGK7ID0KV,RWU79XKQ6I1QF,R2...   \n",
              "3  R3EEUZKKK9J36I,R3HJVYCLYOY554,REDECAZ7AMPQC,R1...   \n",
              "4  R1BP4L2HH9TFUP,R16PVJEXKV6QZS,R2UPDB81N66T4P,R...   \n",
              "\n",
              "                                        review_title  \\\n",
              "0  Satisfied,Charging is really fast,Value for mo...   \n",
              "1  A Good Braided Cable for Your Type C Device,Go...   \n",
              "2  Good speed for earlier versions,Good Product,W...   \n",
              "3  Good product,Good one,Nice,Really nice product...   \n",
              "4  As good as original,Decent,Good one for second...   \n",
              "\n",
              "                                      review_content  \\\n",
              "0  Looks durable Charging is fine tooNo complains...   \n",
              "1  I ordered this cable to connect my phone to An...   \n",
              "2  Not quite durable and sturdy,https://m.media-a...   \n",
              "3  Good product,long wire,Charges good,Nice,I bou...   \n",
              "4  Bought this instead of original apple, does th...   \n",
              "\n",
              "                                            img_link  \\\n",
              "0  https://m.media-amazon.com/images/W/WEBP_40237...   \n",
              "1  https://m.media-amazon.com/images/W/WEBP_40237...   \n",
              "2  https://m.media-amazon.com/images/W/WEBP_40237...   \n",
              "3  https://m.media-amazon.com/images/I/41V5FtEWPk...   \n",
              "4  https://m.media-amazon.com/images/W/WEBP_40237...   \n",
              "\n",
              "                                        product_link  \n",
              "0  https://www.amazon.in/Wayona-Braided-WN3LG1-Sy...  \n",
              "1  https://www.amazon.in/Ambrane-Unbreakable-Char...  \n",
              "2  https://www.amazon.in/Sounce-iPhone-Charging-C...  \n",
              "3  https://www.amazon.in/Deuce-300-Resistant-Tang...  \n",
              "4  https://www.amazon.in/Portronics-Konnect-POR-1...  "
            ],
            "text/html": [
              "\n",
              "  <div id=\"df-bf1c6fc9-a5d1-4918-8e80-95ea30b474a4\" class=\"colab-df-container\">\n",
              "    <div>\n",
              "<style scoped>\n",
              "    .dataframe tbody tr th:only-of-type {\n",
              "        vertical-align: middle;\n",
              "    }\n",
              "\n",
              "    .dataframe tbody tr th {\n",
              "        vertical-align: top;\n",
              "    }\n",
              "\n",
              "    .dataframe thead th {\n",
              "        text-align: right;\n",
              "    }\n",
              "</style>\n",
              "<table border=\"1\" class=\"dataframe\">\n",
              "  <thead>\n",
              "    <tr style=\"text-align: right;\">\n",
              "      <th></th>\n",
              "      <th>product_id</th>\n",
              "      <th>product_name</th>\n",
              "      <th>category</th>\n",
              "      <th>discounted_price</th>\n",
              "      <th>actual_price</th>\n",
              "      <th>discount_percentage</th>\n",
              "      <th>rating</th>\n",
              "      <th>rating_count</th>\n",
              "      <th>about_product</th>\n",
              "      <th>user_id</th>\n",
              "      <th>user_name</th>\n",
              "      <th>review_id</th>\n",
              "      <th>review_title</th>\n",
              "      <th>review_content</th>\n",
              "      <th>img_link</th>\n",
              "      <th>product_link</th>\n",
              "    </tr>\n",
              "  </thead>\n",
              "  <tbody>\n",
              "    <tr>\n",
              "      <th>0</th>\n",
              "      <td>B07JW9H4J1</td>\n",
              "      <td>Wayona Nylon Braided USB to Lightning Fast Cha...</td>\n",
              "      <td>Computers&amp;Accessories|Accessories&amp;Peripherals|...</td>\n",
              "      <td>₹399</td>\n",
              "      <td>₹1,099</td>\n",
              "      <td>64%</td>\n",
              "      <td>4.2</td>\n",
              "      <td>24,269</td>\n",
              "      <td>High Compatibility : Compatible With iPhone 12...</td>\n",
              "      <td>AG3D6O4STAQKAY2UVGEUV46KN35Q,AHMY5CWJMMK5BJRBB...</td>\n",
              "      <td>Manav,Adarsh gupta,Sundeep,S.Sayeed Ahmed,jasp...</td>\n",
              "      <td>R3HXWT0LRP0NMF,R2AJM3LFTLZHFO,R6AQJGUP6P86,R1K...</td>\n",
              "      <td>Satisfied,Charging is really fast,Value for mo...</td>\n",
              "      <td>Looks durable Charging is fine tooNo complains...</td>\n",
              "      <td>https://m.media-amazon.com/images/W/WEBP_40237...</td>\n",
              "      <td>https://www.amazon.in/Wayona-Braided-WN3LG1-Sy...</td>\n",
              "    </tr>\n",
              "    <tr>\n",
              "      <th>1</th>\n",
              "      <td>B098NS6PVG</td>\n",
              "      <td>Ambrane Unbreakable 60W / 3A Fast Charging 1.5...</td>\n",
              "      <td>Computers&amp;Accessories|Accessories&amp;Peripherals|...</td>\n",
              "      <td>₹199</td>\n",
              "      <td>₹349</td>\n",
              "      <td>43%</td>\n",
              "      <td>4.0</td>\n",
              "      <td>43,994</td>\n",
              "      <td>Compatible with all Type C enabled devices, be...</td>\n",
              "      <td>AECPFYFQVRUWC3KGNLJIOREFP5LQ,AGYYVPDD7YG7FYNBX...</td>\n",
              "      <td>ArdKn,Nirbhay kumar,Sagar Viswanathan,Asp,Plac...</td>\n",
              "      <td>RGIQEG07R9HS2,R1SMWZQ86XIN8U,R2J3Y1WL29GWDE,RY...</td>\n",
              "      <td>A Good Braided Cable for Your Type C Device,Go...</td>\n",
              "      <td>I ordered this cable to connect my phone to An...</td>\n",
              "      <td>https://m.media-amazon.com/images/W/WEBP_40237...</td>\n",
              "      <td>https://www.amazon.in/Ambrane-Unbreakable-Char...</td>\n",
              "    </tr>\n",
              "    <tr>\n",
              "      <th>2</th>\n",
              "      <td>B096MSW6CT</td>\n",
              "      <td>Sounce Fast Phone Charging Cable &amp; Data Sync U...</td>\n",
              "      <td>Computers&amp;Accessories|Accessories&amp;Peripherals|...</td>\n",
              "      <td>₹199</td>\n",
              "      <td>₹1,899</td>\n",
              "      <td>90%</td>\n",
              "      <td>3.9</td>\n",
              "      <td>7,928</td>\n",
              "      <td>【 Fast Charger&amp; Data Sync】-With built-in safet...</td>\n",
              "      <td>AGU3BBQ2V2DDAMOAKGFAWDDQ6QHA,AESFLDV2PT363T2AQ...</td>\n",
              "      <td>Kunal,Himanshu,viswanath,sai niharka,saqib mal...</td>\n",
              "      <td>R3J3EQQ9TZI5ZJ,R3E7WBGK7ID0KV,RWU79XKQ6I1QF,R2...</td>\n",
              "      <td>Good speed for earlier versions,Good Product,W...</td>\n",
              "      <td>Not quite durable and sturdy,https://m.media-a...</td>\n",
              "      <td>https://m.media-amazon.com/images/W/WEBP_40237...</td>\n",
              "      <td>https://www.amazon.in/Sounce-iPhone-Charging-C...</td>\n",
              "    </tr>\n",
              "    <tr>\n",
              "      <th>3</th>\n",
              "      <td>B08HDJ86NZ</td>\n",
              "      <td>boAt Deuce USB 300 2 in 1 Type-C &amp; Micro USB S...</td>\n",
              "      <td>Computers&amp;Accessories|Accessories&amp;Peripherals|...</td>\n",
              "      <td>₹329</td>\n",
              "      <td>₹699</td>\n",
              "      <td>53%</td>\n",
              "      <td>4.2</td>\n",
              "      <td>94,363</td>\n",
              "      <td>The boAt Deuce USB 300 2 in 1 cable is compati...</td>\n",
              "      <td>AEWAZDZZJLQUYVOVGBEUKSLXHQ5A,AG5HTSFRRE6NL3M5S...</td>\n",
              "      <td>Omkar dhale,JD,HEMALATHA,Ajwadh a.,amar singh ...</td>\n",
              "      <td>R3EEUZKKK9J36I,R3HJVYCLYOY554,REDECAZ7AMPQC,R1...</td>\n",
              "      <td>Good product,Good one,Nice,Really nice product...</td>\n",
              "      <td>Good product,long wire,Charges good,Nice,I bou...</td>\n",
              "      <td>https://m.media-amazon.com/images/I/41V5FtEWPk...</td>\n",
              "      <td>https://www.amazon.in/Deuce-300-Resistant-Tang...</td>\n",
              "    </tr>\n",
              "    <tr>\n",
              "      <th>4</th>\n",
              "      <td>B08CF3B7N1</td>\n",
              "      <td>Portronics Konnect L 1.2M Fast Charging 3A 8 P...</td>\n",
              "      <td>Computers&amp;Accessories|Accessories&amp;Peripherals|...</td>\n",
              "      <td>₹154</td>\n",
              "      <td>₹399</td>\n",
              "      <td>61%</td>\n",
              "      <td>4.2</td>\n",
              "      <td>16,905</td>\n",
              "      <td>[CHARGE &amp; SYNC FUNCTION]- This cable comes wit...</td>\n",
              "      <td>AE3Q6KSUK5P75D5HFYHCRAOLODSA,AFUGIFH5ZAFXRDSZH...</td>\n",
              "      <td>rahuls6099,Swasat Borah,Ajay Wadke,Pranali,RVK...</td>\n",
              "      <td>R1BP4L2HH9TFUP,R16PVJEXKV6QZS,R2UPDB81N66T4P,R...</td>\n",
              "      <td>As good as original,Decent,Good one for second...</td>\n",
              "      <td>Bought this instead of original apple, does th...</td>\n",
              "      <td>https://m.media-amazon.com/images/W/WEBP_40237...</td>\n",
              "      <td>https://www.amazon.in/Portronics-Konnect-POR-1...</td>\n",
              "    </tr>\n",
              "  </tbody>\n",
              "</table>\n",
              "</div>\n",
              "    <div class=\"colab-df-buttons\">\n",
              "\n",
              "  <div class=\"colab-df-container\">\n",
              "    <button class=\"colab-df-convert\" onclick=\"convertToInteractive('df-bf1c6fc9-a5d1-4918-8e80-95ea30b474a4')\"\n",
              "            title=\"Convert this dataframe to an interactive table.\"\n",
              "            style=\"display:none;\">\n",
              "\n",
              "  <svg xmlns=\"http://www.w3.org/2000/svg\" height=\"24px\" viewBox=\"0 -960 960 960\">\n",
              "    <path d=\"M120-120v-720h720v720H120Zm60-500h600v-160H180v160Zm220 220h160v-160H400v160Zm0 220h160v-160H400v160ZM180-400h160v-160H180v160Zm440 0h160v-160H620v160ZM180-180h160v-160H180v160Zm440 0h160v-160H620v160Z\"/>\n",
              "  </svg>\n",
              "    </button>\n",
              "\n",
              "  <style>\n",
              "    .colab-df-container {\n",
              "      display:flex;\n",
              "      gap: 12px;\n",
              "    }\n",
              "\n",
              "    .colab-df-convert {\n",
              "      background-color: #E8F0FE;\n",
              "      border: none;\n",
              "      border-radius: 50%;\n",
              "      cursor: pointer;\n",
              "      display: none;\n",
              "      fill: #1967D2;\n",
              "      height: 32px;\n",
              "      padding: 0 0 0 0;\n",
              "      width: 32px;\n",
              "    }\n",
              "\n",
              "    .colab-df-convert:hover {\n",
              "      background-color: #E2EBFA;\n",
              "      box-shadow: 0px 1px 2px rgba(60, 64, 67, 0.3), 0px 1px 3px 1px rgba(60, 64, 67, 0.15);\n",
              "      fill: #174EA6;\n",
              "    }\n",
              "\n",
              "    .colab-df-buttons div {\n",
              "      margin-bottom: 4px;\n",
              "    }\n",
              "\n",
              "    [theme=dark] .colab-df-convert {\n",
              "      background-color: #3B4455;\n",
              "      fill: #D2E3FC;\n",
              "    }\n",
              "\n",
              "    [theme=dark] .colab-df-convert:hover {\n",
              "      background-color: #434B5C;\n",
              "      box-shadow: 0px 1px 3px 1px rgba(0, 0, 0, 0.15);\n",
              "      filter: drop-shadow(0px 1px 2px rgba(0, 0, 0, 0.3));\n",
              "      fill: #FFFFFF;\n",
              "    }\n",
              "  </style>\n",
              "\n",
              "    <script>\n",
              "      const buttonEl =\n",
              "        document.querySelector('#df-bf1c6fc9-a5d1-4918-8e80-95ea30b474a4 button.colab-df-convert');\n",
              "      buttonEl.style.display =\n",
              "        google.colab.kernel.accessAllowed ? 'block' : 'none';\n",
              "\n",
              "      async function convertToInteractive(key) {\n",
              "        const element = document.querySelector('#df-bf1c6fc9-a5d1-4918-8e80-95ea30b474a4');\n",
              "        const dataTable =\n",
              "          await google.colab.kernel.invokeFunction('convertToInteractive',\n",
              "                                                    [key], {});\n",
              "        if (!dataTable) return;\n",
              "\n",
              "        const docLinkHtml = 'Like what you see? Visit the ' +\n",
              "          '<a target=\"_blank\" href=https://colab.research.google.com/notebooks/data_table.ipynb>data table notebook</a>'\n",
              "          + ' to learn more about interactive tables.';\n",
              "        element.innerHTML = '';\n",
              "        dataTable['output_type'] = 'display_data';\n",
              "        await google.colab.output.renderOutput(dataTable, element);\n",
              "        const docLink = document.createElement('div');\n",
              "        docLink.innerHTML = docLinkHtml;\n",
              "        element.appendChild(docLink);\n",
              "      }\n",
              "    </script>\n",
              "  </div>\n",
              "\n",
              "\n",
              "<div id=\"df-31f29eee-cfed-4888-94b9-0f08ee66adb1\">\n",
              "  <button class=\"colab-df-quickchart\" onclick=\"quickchart('df-31f29eee-cfed-4888-94b9-0f08ee66adb1')\"\n",
              "            title=\"Suggest charts\"\n",
              "            style=\"display:none;\">\n",
              "\n",
              "<svg xmlns=\"http://www.w3.org/2000/svg\" height=\"24px\"viewBox=\"0 0 24 24\"\n",
              "     width=\"24px\">\n",
              "    <g>\n",
              "        <path d=\"M19 3H5c-1.1 0-2 .9-2 2v14c0 1.1.9 2 2 2h14c1.1 0 2-.9 2-2V5c0-1.1-.9-2-2-2zM9 17H7v-7h2v7zm4 0h-2V7h2v10zm4 0h-2v-4h2v4z\"/>\n",
              "    </g>\n",
              "</svg>\n",
              "  </button>\n",
              "\n",
              "<style>\n",
              "  .colab-df-quickchart {\n",
              "      --bg-color: #E8F0FE;\n",
              "      --fill-color: #1967D2;\n",
              "      --hover-bg-color: #E2EBFA;\n",
              "      --hover-fill-color: #174EA6;\n",
              "      --disabled-fill-color: #AAA;\n",
              "      --disabled-bg-color: #DDD;\n",
              "  }\n",
              "\n",
              "  [theme=dark] .colab-df-quickchart {\n",
              "      --bg-color: #3B4455;\n",
              "      --fill-color: #D2E3FC;\n",
              "      --hover-bg-color: #434B5C;\n",
              "      --hover-fill-color: #FFFFFF;\n",
              "      --disabled-bg-color: #3B4455;\n",
              "      --disabled-fill-color: #666;\n",
              "  }\n",
              "\n",
              "  .colab-df-quickchart {\n",
              "    background-color: var(--bg-color);\n",
              "    border: none;\n",
              "    border-radius: 50%;\n",
              "    cursor: pointer;\n",
              "    display: none;\n",
              "    fill: var(--fill-color);\n",
              "    height: 32px;\n",
              "    padding: 0;\n",
              "    width: 32px;\n",
              "  }\n",
              "\n",
              "  .colab-df-quickchart:hover {\n",
              "    background-color: var(--hover-bg-color);\n",
              "    box-shadow: 0 1px 2px rgba(60, 64, 67, 0.3), 0 1px 3px 1px rgba(60, 64, 67, 0.15);\n",
              "    fill: var(--button-hover-fill-color);\n",
              "  }\n",
              "\n",
              "  .colab-df-quickchart-complete:disabled,\n",
              "  .colab-df-quickchart-complete:disabled:hover {\n",
              "    background-color: var(--disabled-bg-color);\n",
              "    fill: var(--disabled-fill-color);\n",
              "    box-shadow: none;\n",
              "  }\n",
              "\n",
              "  .colab-df-spinner {\n",
              "    border: 2px solid var(--fill-color);\n",
              "    border-color: transparent;\n",
              "    border-bottom-color: var(--fill-color);\n",
              "    animation:\n",
              "      spin 1s steps(1) infinite;\n",
              "  }\n",
              "\n",
              "  @keyframes spin {\n",
              "    0% {\n",
              "      border-color: transparent;\n",
              "      border-bottom-color: var(--fill-color);\n",
              "      border-left-color: var(--fill-color);\n",
              "    }\n",
              "    20% {\n",
              "      border-color: transparent;\n",
              "      border-left-color: var(--fill-color);\n",
              "      border-top-color: var(--fill-color);\n",
              "    }\n",
              "    30% {\n",
              "      border-color: transparent;\n",
              "      border-left-color: var(--fill-color);\n",
              "      border-top-color: var(--fill-color);\n",
              "      border-right-color: var(--fill-color);\n",
              "    }\n",
              "    40% {\n",
              "      border-color: transparent;\n",
              "      border-right-color: var(--fill-color);\n",
              "      border-top-color: var(--fill-color);\n",
              "    }\n",
              "    60% {\n",
              "      border-color: transparent;\n",
              "      border-right-color: var(--fill-color);\n",
              "    }\n",
              "    80% {\n",
              "      border-color: transparent;\n",
              "      border-right-color: var(--fill-color);\n",
              "      border-bottom-color: var(--fill-color);\n",
              "    }\n",
              "    90% {\n",
              "      border-color: transparent;\n",
              "      border-bottom-color: var(--fill-color);\n",
              "    }\n",
              "  }\n",
              "</style>\n",
              "\n",
              "  <script>\n",
              "    async function quickchart(key) {\n",
              "      const quickchartButtonEl =\n",
              "        document.querySelector('#' + key + ' button');\n",
              "      quickchartButtonEl.disabled = true;  // To prevent multiple clicks.\n",
              "      quickchartButtonEl.classList.add('colab-df-spinner');\n",
              "      try {\n",
              "        const charts = await google.colab.kernel.invokeFunction(\n",
              "            'suggestCharts', [key], {});\n",
              "      } catch (error) {\n",
              "        console.error('Error during call to suggestCharts:', error);\n",
              "      }\n",
              "      quickchartButtonEl.classList.remove('colab-df-spinner');\n",
              "      quickchartButtonEl.classList.add('colab-df-quickchart-complete');\n",
              "    }\n",
              "    (() => {\n",
              "      let quickchartButtonEl =\n",
              "        document.querySelector('#df-31f29eee-cfed-4888-94b9-0f08ee66adb1 button');\n",
              "      quickchartButtonEl.style.display =\n",
              "        google.colab.kernel.accessAllowed ? 'block' : 'none';\n",
              "    })();\n",
              "  </script>\n",
              "</div>\n",
              "    </div>\n",
              "  </div>\n"
            ]
          },
          "metadata": {},
          "execution_count": 52
        }
      ]
    },
    {
      "cell_type": "code",
      "source": [
        "X = df['review_content']\n",
        "y = pd.to_numeric(df['rating'], 'coerce').fillna(0).astype(float) >= 4\n",
        "vec = CountVectorizer(stop_words='english')\n",
        "X = vec.fit_transform(X).toarray()"
      ],
      "metadata": {
        "id": "HTy6YPeWKZQn"
      },
      "execution_count": 95,
      "outputs": []
    },
    {
      "cell_type": "code",
      "source": [
        "X_train, X_test, y_train, y_test = train_test_split(X, y, stratify=y, test_size=0.25, random_state=42)"
      ],
      "metadata": {
        "id": "EM6XaW2RVFtm"
      },
      "execution_count": 96,
      "outputs": []
    },
    {
      "cell_type": "code",
      "source": [
        "from sklearn.naive_bayes import MultinomialNB"
      ],
      "metadata": {
        "id": "5pMJyj0FSbO5"
      },
      "execution_count": 97,
      "outputs": []
    },
    {
      "cell_type": "code",
      "source": [
        "model = MultinomialNB()\n",
        "model.fit(X_train, y_train)"
      ],
      "metadata": {
        "colab": {
          "base_uri": "https://localhost:8080/",
          "height": 75
        },
        "id": "wYWQ4muUSnTl",
        "outputId": "3e8018f3-6fca-485e-e097-b20d3bd7c5ab"
      },
      "execution_count": 98,
      "outputs": [
        {
          "output_type": "execute_result",
          "data": {
            "text/plain": [
              "MultinomialNB()"
            ],
            "text/html": [
              "<style>#sk-container-id-8 {color: black;background-color: white;}#sk-container-id-8 pre{padding: 0;}#sk-container-id-8 div.sk-toggleable {background-color: white;}#sk-container-id-8 label.sk-toggleable__label {cursor: pointer;display: block;width: 100%;margin-bottom: 0;padding: 0.3em;box-sizing: border-box;text-align: center;}#sk-container-id-8 label.sk-toggleable__label-arrow:before {content: \"▸\";float: left;margin-right: 0.25em;color: #696969;}#sk-container-id-8 label.sk-toggleable__label-arrow:hover:before {color: black;}#sk-container-id-8 div.sk-estimator:hover label.sk-toggleable__label-arrow:before {color: black;}#sk-container-id-8 div.sk-toggleable__content {max-height: 0;max-width: 0;overflow: hidden;text-align: left;background-color: #f0f8ff;}#sk-container-id-8 div.sk-toggleable__content pre {margin: 0.2em;color: black;border-radius: 0.25em;background-color: #f0f8ff;}#sk-container-id-8 input.sk-toggleable__control:checked~div.sk-toggleable__content {max-height: 200px;max-width: 100%;overflow: auto;}#sk-container-id-8 input.sk-toggleable__control:checked~label.sk-toggleable__label-arrow:before {content: \"▾\";}#sk-container-id-8 div.sk-estimator input.sk-toggleable__control:checked~label.sk-toggleable__label {background-color: #d4ebff;}#sk-container-id-8 div.sk-label input.sk-toggleable__control:checked~label.sk-toggleable__label {background-color: #d4ebff;}#sk-container-id-8 input.sk-hidden--visually {border: 0;clip: rect(1px 1px 1px 1px);clip: rect(1px, 1px, 1px, 1px);height: 1px;margin: -1px;overflow: hidden;padding: 0;position: absolute;width: 1px;}#sk-container-id-8 div.sk-estimator {font-family: monospace;background-color: #f0f8ff;border: 1px dotted black;border-radius: 0.25em;box-sizing: border-box;margin-bottom: 0.5em;}#sk-container-id-8 div.sk-estimator:hover {background-color: #d4ebff;}#sk-container-id-8 div.sk-parallel-item::after {content: \"\";width: 100%;border-bottom: 1px solid gray;flex-grow: 1;}#sk-container-id-8 div.sk-label:hover label.sk-toggleable__label {background-color: #d4ebff;}#sk-container-id-8 div.sk-serial::before {content: \"\";position: absolute;border-left: 1px solid gray;box-sizing: border-box;top: 0;bottom: 0;left: 50%;z-index: 0;}#sk-container-id-8 div.sk-serial {display: flex;flex-direction: column;align-items: center;background-color: white;padding-right: 0.2em;padding-left: 0.2em;position: relative;}#sk-container-id-8 div.sk-item {position: relative;z-index: 1;}#sk-container-id-8 div.sk-parallel {display: flex;align-items: stretch;justify-content: center;background-color: white;position: relative;}#sk-container-id-8 div.sk-item::before, #sk-container-id-8 div.sk-parallel-item::before {content: \"\";position: absolute;border-left: 1px solid gray;box-sizing: border-box;top: 0;bottom: 0;left: 50%;z-index: -1;}#sk-container-id-8 div.sk-parallel-item {display: flex;flex-direction: column;z-index: 1;position: relative;background-color: white;}#sk-container-id-8 div.sk-parallel-item:first-child::after {align-self: flex-end;width: 50%;}#sk-container-id-8 div.sk-parallel-item:last-child::after {align-self: flex-start;width: 50%;}#sk-container-id-8 div.sk-parallel-item:only-child::after {width: 0;}#sk-container-id-8 div.sk-dashed-wrapped {border: 1px dashed gray;margin: 0 0.4em 0.5em 0.4em;box-sizing: border-box;padding-bottom: 0.4em;background-color: white;}#sk-container-id-8 div.sk-label label {font-family: monospace;font-weight: bold;display: inline-block;line-height: 1.2em;}#sk-container-id-8 div.sk-label-container {text-align: center;}#sk-container-id-8 div.sk-container {/* jupyter's `normalize.less` sets `[hidden] { display: none; }` but bootstrap.min.css set `[hidden] { display: none !important; }` so we also need the `!important` here to be able to override the default hidden behavior on the sphinx rendered scikit-learn.org. See: https://github.com/scikit-learn/scikit-learn/issues/21755 */display: inline-block !important;position: relative;}#sk-container-id-8 div.sk-text-repr-fallback {display: none;}</style><div id=\"sk-container-id-8\" class=\"sk-top-container\"><div class=\"sk-text-repr-fallback\"><pre>MultinomialNB()</pre><b>In a Jupyter environment, please rerun this cell to show the HTML representation or trust the notebook. <br />On GitHub, the HTML representation is unable to render, please try loading this page with nbviewer.org.</b></div><div class=\"sk-container\" hidden><div class=\"sk-item\"><div class=\"sk-estimator sk-toggleable\"><input class=\"sk-toggleable__control sk-hidden--visually\" id=\"sk-estimator-id-8\" type=\"checkbox\" checked><label for=\"sk-estimator-id-8\" class=\"sk-toggleable__label sk-toggleable__label-arrow\">MultinomialNB</label><div class=\"sk-toggleable__content\"><pre>MultinomialNB()</pre></div></div></div></div></div>"
            ]
          },
          "metadata": {},
          "execution_count": 98
        }
      ]
    },
    {
      "cell_type": "code",
      "source": [
        "print(\"Accuracy: \", model.score(X_test, y_test))"
      ],
      "metadata": {
        "colab": {
          "base_uri": "https://localhost:8080/"
        },
        "id": "9donooMfSrFe",
        "outputId": "9019fe6d-dfd5-4c32-c3fb-ba0dd6627ae8"
      },
      "execution_count": 102,
      "outputs": [
        {
          "output_type": "stream",
          "name": "stdout",
          "text": [
            "Accuracy:  0.771117166212534\n"
          ]
        }
      ]
    },
    {
      "cell_type": "code",
      "source": [
        "predictions = model.predict(X_test)\n",
        "report = classification_report(y_test, predictions, output_dict=True)"
      ],
      "metadata": {
        "id": "aSxegiRujr-Q"
      },
      "execution_count": 100,
      "outputs": []
    },
    {
      "cell_type": "code",
      "source": [
        "print('positive: ', report['True'])\n",
        "print('negative: ', report['False'])"
      ],
      "metadata": {
        "colab": {
          "base_uri": "https://localhost:8080/"
        },
        "id": "fO0ceSbAjyef",
        "outputId": "813b4500-fbef-40ad-eb2e-8c998911ee44"
      },
      "execution_count": 101,
      "outputs": [
        {
          "output_type": "stream",
          "name": "stdout",
          "text": [
            "positive:  {'precision': 0.814935064935065, 'recall': 0.9028776978417267, 'f1-score': 0.8566552901023892, 'support': 278}\n",
            "negative:  {'precision': 0.5423728813559322, 'recall': 0.3595505617977528, 'f1-score': 0.43243243243243246, 'support': 89}\n"
          ]
        }
      ]
    },
    {
      "cell_type": "code",
      "source": [
        "from sklearn.feature_extraction.text import TfidfVectorizer\n",
        "X = df['review_content']\n",
        "y = pd.to_numeric(df['rating'], 'coerce').fillna(0).astype(float) >= 4\n",
        "# Create feature vectors\n",
        "vectorizer = TfidfVectorizer(min_df = 5,\n",
        "                             max_df = 0.8,\n",
        "                             sublinear_tf = True,\n",
        "                             use_idf = True)\n",
        "vectors = vectorizer.fit_transform(X)"
      ],
      "metadata": {
        "id": "rk6CP_DLSuYN"
      },
      "execution_count": 84,
      "outputs": []
    },
    {
      "cell_type": "code",
      "source": [
        "X_train, X_test, y_train, y_test = train_test_split(vectors, y, stratify=y, test_size=0.25, random_state=42)"
      ],
      "metadata": {
        "id": "cL2UpYu0icUY"
      },
      "execution_count": 85,
      "outputs": []
    },
    {
      "cell_type": "code",
      "source": [
        "from sklearn import svm\n",
        "from sklearn.metrics import classification_report\n",
        "# Perform classification with SVM, kernel=linear\n",
        "classifier_linear = svm.SVC(kernel='linear')\n",
        "classifier_linear.fit(X_train, y_train)\n",
        "prediction_linear = classifier_linear.predict(X_test)\n",
        "report = classification_report(y_test, prediction_linear, output_dict=True)"
      ],
      "metadata": {
        "id": "3ixjKILdifiu"
      },
      "execution_count": 86,
      "outputs": []
    },
    {
      "cell_type": "code",
      "source": [
        "print('positive: ', report['True'])\n",
        "print('negative: ', report['False'])"
      ],
      "metadata": {
        "colab": {
          "base_uri": "https://localhost:8080/"
        },
        "id": "eVXJyQQtixiw",
        "outputId": "595c4d7b-8951-450b-d9ae-88dc2ef06dee"
      },
      "execution_count": 91,
      "outputs": [
        {
          "output_type": "stream",
          "name": "stdout",
          "text": [
            "positive:  {'precision': 0.8162650602409639, 'recall': 0.9748201438848921, 'f1-score': 0.8885245901639345, 'support': 278}\n",
            "negative:  {'precision': 0.8, 'recall': 0.3146067415730337, 'f1-score': 0.45161290322580644, 'support': 89}\n"
          ]
        }
      ]
    },
    {
      "cell_type": "code",
      "source": [
        "print(\"Accuracy: \", classifier_linear.score(X_test, y_test))"
      ],
      "metadata": {
        "colab": {
          "base_uri": "https://localhost:8080/"
        },
        "id": "5RXtigY4jR-w",
        "outputId": "2ddf10e1-5ca0-4999-a395-0c16a6ffacfd"
      },
      "execution_count": 94,
      "outputs": [
        {
          "output_type": "stream",
          "name": "stdout",
          "text": [
            "Accuracy:  0.8147138964577657\n"
          ]
        }
      ]
    }
  ]
}